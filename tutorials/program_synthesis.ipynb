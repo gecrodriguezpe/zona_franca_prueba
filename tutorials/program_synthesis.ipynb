{
 "cells": [
  {
   "cell_type": "markdown",
   "metadata": {},
   "source": [
    "# Set working directory and import modules"
   ]
  },
  {
   "cell_type": "code",
   "execution_count": 1,
   "metadata": {
    "pycharm": {
     "is_executing": false,
     "name": "#%%\n"
    }
   },
   "outputs": [],
   "source": [
    "import json\n",
    "import os\n",
    "# Change working directory to the root of the repository (assumes notebook working directory is `tutorials`)\n",
    "os.chdir('..')\n",
    "import main\n",
    "from fitness.program_synthesis.program_synthesis import FindCharacters, FindCharactersSymbolicExecution"
   ]
  },
  {
   "cell_type": "markdown",
   "metadata": {
    "collapsed": false
   },
   "source": [
    "# Run program synthesis"
   ]
  },
  {
   "cell_type": "code",
   "execution_count": 2,
   "metadata": {
    "collapsed": false,
    "pycharm": {
     "is_executing": false,
     "name": "#%%\n"
    }
   },
   "outputs": [
    {
     "name": "stdout",
     "output_type": "stream",
     "text": [
      "Run program:\n",
      "\n",
      "def fcn(inputs):\n",
      "    \n",
      "    res0 = 0\n",
      "    for i in inputs:\n",
      "        if i == \"a\" or i == \"b\":\n",
      "            res0 = res0 + 1\n",
      "    return res0\n",
      "    \n",
      "\n",
      "outcomes = evaluate_exemplars(inputs, outputs, fcn)\n",
      "            \n",
      "[True, True, True, True, True, True, True, True, True, True, True, True, True, True, True, True, True, True, True, True, True, True, True, True, True, True, True, True, True, True, True, True, True, True, True, True, True, True, True, True, True, True, True, True, True, True, True, True, True, True, True, True, True, True, True, True, True, True, True, True, True, True, True, True, True, True, True, True, True, True, True, True, True, True, True, True, True, True, True, True, True, True, True, True, True, True, True, True, True, True, True, True, True, True, True, True, True, True, True, True]\n"
     ]
    },
    {
     "name": "stderr",
     "output_type": "stream",
     "text": [
      "<>:15: SyntaxWarning: assertion is always true, perhaps remove parentheses?\n",
      "<>:15: SyntaxWarning: assertion is always true, perhaps remove parentheses?\n",
      "/tmp/ipykernel_23684/3310864875.py:15: SyntaxWarning: assertion is always true, perhaps remove parentheses?\n",
      "  assert (sum(result) == 100, result)\n"
     ]
    }
   ],
   "source": [
    "data_file = \"tests/program_synthesis/FindCharacters.json\"\n",
    "with open(data_file, \"r\") as f:\n",
    "    data = json.load(f)\n",
    "\n",
    "program_synthesis = FindCharacters(data[\"train\"], \"\")\n",
    "code = \"\"\"\n",
    "    res0 = 0\n",
    "    for i in inputs:\n",
    "        if i == \"a\" or i == \"b\":\n",
    "            res0 = res0 + 1\n",
    "    return res0\n",
    "    \"\"\"\n",
    "result = program_synthesis.run(code)\n",
    "print(result)\n",
    "assert (sum(result) == 100, result)"
   ]
  },
  {
   "cell_type": "markdown",
   "metadata": {
    "collapsed": false
   },
   "source": [
    "# Run the heuristic search"
   ]
  },
  {
   "cell_type": "code",
   "execution_count": 3,
   "metadata": {
    "collapsed": false,
    "pycharm": {
     "is_executing": false,
     "name": "#%%\n"
    }
   },
   "outputs": [
    {
     "name": "stdout",
     "output_type": "stream",
     "text": [
      "Setting random seed: 1 0.13436\n",
      "donkey_ge settings: {'population_size': 4, 'max_length': 100, 'elite_size': 1, 'generations': 3, 'tournament_size': 2, 'seed': 1, 'crossover_probability': 0.8, 'mutation_probability': 0.1, 'codon_size': 127, 'integer_input_element_max': 1000, 'bnf_grammar': 'tests/grammars/program_synthesis.bnf', 'fitness_function': {'name': 'fitness.fitness.ProgramSynthesis', 'data': 'tests/program_synthesis/FindCharacters.json', 'synthesis_problem': 'fitness.program_synthesis.program_synthesis.FindCharacters', 'code_template_path': 'tests/program_synthesis/code_template.txt'}, 'output_dir': 'tmp', 'coev': False}\n",
      "Run program:\n",
      "def fcn(inputs):\n",
      "    res0 = 0\n",
      "    for i in inputs:\n",
      "        if i == 'g' or i == 'c':\n",
      "            res0 = res0 + 1\n",
      "    return res0\n",
      "\n",
      "outcomes = evaluate_exemplars(inputs, outputs, fcn)\n",
      "\n",
      "Run program:\n",
      "def fcn(inputs):\n",
      "    res0 = 0\n",
      "    for i in inputs:\n",
      "        if i == 'c' or i == 'a':\n",
      "            res0 = res0 + 1\n",
      "    return res0\n",
      "\n",
      "outcomes = evaluate_exemplars(inputs, outputs, fcn)\n",
      "\n",
      "Run program:\n",
      "def fcn(inputs):\n",
      "    res0 = 0\n",
      "    for i in inputs:\n",
      "        if i == 'a' or i == 'b':\n",
      "            res0 = res0 + 1\n",
      "    return res0\n",
      "\n",
      "outcomes = evaluate_exemplars(inputs, outputs, fcn)\n",
      "\n",
      "Run program:\n",
      "def fcn(inputs):\n",
      "    res0 = 0\n",
      "    for i in inputs:\n",
      "        if i == 'b' or i == 'b':\n",
      "            res0 = res0 + 1\n",
      "    return res0\n",
      "\n",
      "outcomes = evaluate_exemplars(inputs, outputs, fcn)\n",
      "\n",
      "Gen:0 t:0.001 fit_ave:64.50+-21.685 size_ave:2.00+-0.000 length_ave:100.00+-0.000 Ind: if i == 'a' or i == 'b':; 100\n",
      "Run program:\n",
      "def fcn(inputs):\n",
      "    res0 = 0\n",
      "    for i in inputs:\n",
      "        if i == 'd' or i == 'b':\n",
      "            res0 = res0 + 1\n",
      "    return res0\n",
      "\n",
      "outcomes = evaluate_exemplars(inputs, outputs, fcn)\n",
      "\n",
      "Run program:\n",
      "def fcn(inputs):\n",
      "    res0 = 0\n",
      "    for i in inputs:\n",
      "        if i == 'a' or i == 'd':\n",
      "            res0 = res0 + 1\n",
      "    return res0\n",
      "\n",
      "outcomes = evaluate_exemplars(inputs, outputs, fcn)\n",
      "\n",
      "Run program:\n",
      "def fcn(inputs):\n",
      "    res0 = 0\n",
      "    for i in inputs:\n",
      "        if i == 'b' or i == 'a':\n",
      "            res0 = res0 + 1\n",
      "    return res0\n",
      "\n",
      "outcomes = evaluate_exemplars(inputs, outputs, fcn)\n",
      "\n",
      "Gen:1 t:0.001 fit_ave:77.25+-22.819 size_ave:2.00+-0.000 length_ave:100.00+-0.707 Ind: if i == 'b' or i == 'a':; 100\n",
      "Run program:\n",
      "def fcn(inputs):\n",
      "    res0 = 0\n",
      "    for i in inputs:\n",
      "        if i == 'd' or i == 'a':\n",
      "            res0 = res0 + 1\n",
      "    return res0\n",
      "\n",
      "outcomes = evaluate_exemplars(inputs, outputs, fcn)\n",
      "\n",
      "Gen:2 t:0.000 fit_ave:100.00+-0.000 size_ave:2.00+-0.000 length_ave:99.25+-0.433 Ind: if i == 'b' or i == 'a':; 100\n",
      "Cache entries:8 Total Fitness Evaluations:48 Fitness Values:6\n",
      "Time: 0.005 Best solution:Ind: if i == 'b' or i == 'a':; 100\n"
     ]
    }
   ],
   "source": [
    "out_path = 'tmp'\n",
    "# Set to use the configuration file and output directory\n",
    "args = [\"-o\", out_path, \"-f\", \"tests/configurations/program_synthesis.yml\"]\n",
    "_ = main.main(args)"
   ]
  },
  {
   "cell_type": "code",
   "execution_count": 4,
   "metadata": {
    "collapsed": false,
    "pycharm": {
     "is_executing": false,
     "name": "#%%\n"
    }
   },
   "outputs": [
    {
     "data": {
      "image/png": "[encoded data removed]",
      "text/plain": [
       "<Figure size 640x480 with 1 Axes>"
      ]
     },
     "metadata": {},
     "output_type": "display_data"
    }
   ],
   "source": [
    "from util.plot_donkey_ge import plot_fitness\n",
    "# Plot fitness from a search\n",
    "plot_fitness(in_path=out_path, out_path=out_path)"
   ]
  },
  {
   "cell_type": "markdown",
   "metadata": {
    "collapsed": false
   },
   "source": [
    "# Run program synthesis with symbolic execution"
   ]
  },
  {
   "cell_type": "code",
   "execution_count": 5,
   "metadata": {
    "collapsed": false,
    "pycharm": {
     "is_executing": false,
     "name": "#%%\n"
    }
   },
   "outputs": [
    {
     "name": "stdout",
     "output_type": "stream",
     "text": [
      "Run program:\n",
      "\n",
      "class Cls:\n",
      "\n",
      "    def __init__(self):\n",
      "        self.increment = 0\n",
      "\n",
      "    def fcn(self, inputs):\n",
      "        \n",
      "        self.increment = 1\n",
      "        res0 = 0\n",
      "        for i in inputs:\n",
      "            if i == \"a\" or i == \"b\":\n",
      "                res0 = res0 + self.increment\n",
      "        return res0\n",
      "    \n",
      "\n",
      "    def run(self, inputs, outputs):\n",
      "        self.outcomes = evaluate_exemplars(inputs, outputs, self)\n",
      "        return self.outcomes\n",
      "\n",
      "instance = Cls()\n",
      "outcomes = instance.run(inputs, outputs)\n",
      "\n",
      "From exec:\n",
      "Solver model:[]\n",
      "\n",
      "[True, True, True, True, True, True, True, True, True, True, True, True, True, True, True, True, True, True, True, True, True, True, True, True, True, True, True, True, True, True, True, True, True, True, True, True, True, True, True, True, True, True, True, True, True, True, True, True, True, True, True, True, True, True, True, True, True, True, True, True, True, True, True, True, True, True, True, True, True, True, True, True, True, True, True, True, True, True, True, True, True, True, True, True, True, True, True, True, True, True, True, True, True, True, True, True, True, True, True, True]\n"
     ]
    }
   ],
   "source": [
    "program_synthesis = FindCharactersSymbolicExecution(data[\"train\"], \"\")\n",
    "code = \"\"\"\n",
    "        self.increment = 1\n",
    "        res0 = 0\n",
    "        for i in inputs:\n",
    "            if i == \"a\" or i == \"b\":\n",
    "                res0 = res0 + self.increment\n",
    "        return res0\n",
    "    \"\"\"\n",
    "result = program_synthesis.run(code)\n",
    "print(result)\n",
    "assert sum(result) == 100"
   ]
  },
  {
   "cell_type": "markdown",
   "metadata": {
    "collapsed": false
   },
   "source": [
    "# Run the heuristic search"
   ]
  },
  {
   "cell_type": "code",
   "execution_count": 6,
   "metadata": {
    "collapsed": false,
    "pycharm": {
     "is_executing": false,
     "name": "#%%\n"
    }
   },
   "outputs": [
    {
     "name": "stdout",
     "output_type": "stream",
     "text": [
      "Setting random seed: 1 0.13436\n",
      "donkey_ge settings: {'population_size': 4, 'max_length': 100, 'elite_size': 1, 'generations': 3, 'tournament_size': 2, 'seed': 1, 'crossover_probability': 0.8, 'mutation_probability': 0.1, 'codon_size': 127, 'integer_input_element_max': 1000, 'bnf_grammar': 'tests/grammars/program_synthesis_symbolic_execution.bnf', 'fitness_function': {'name': 'fitness.fitness.ProgramSynthesis', 'data': 'tests/program_synthesis/FindCharacters.json', 'synthesis_problem': 'fitness.program_synthesis.program_synthesis.FindCharactersSymbolicExecution', 'code_template_path': 'tests/program_synthesis/code_template_symbolic_execution.txt'}, 'output_dir': 'tmp', 'coev': False}\n",
      "Run program:\n",
      "class Cls:\n",
      "\n",
      "    def __init__(self, increment):\n",
      "        self.increment = increment\n",
      "\n",
      "    def fcn(self, inputs):\n",
      "        res0 = 0\n",
      "        for i in inputs:\n",
      "            if i == \"a\" or i == \"b\":\n",
      "                res0 = res0 + self.increment\n",
      "        return res0\n",
      "\n",
      "\n",
      "    def run(self, inputs, outputs):\n",
      "        self.outcomes = evaluate_exemplars(inputs, outputs, self)\n",
      "        return self.outcomes\n",
      "\n",
      "instance = Cls(0)\n",
      "outcomes = instance.run(inputs, outputs)\n",
      "\n",
      "Run program:\n",
      "class Cls:\n",
      "\n",
      "    def __init__(self, increment):\n",
      "        self.increment = increment\n",
      "\n",
      "    def fcn(self, inputs):\n",
      "        res0 = 0\n",
      "        for i in inputs:\n",
      "            if i == \"a\" or i == \"b\":\n",
      "                res0 = res0 + self.increment\n",
      "        return res0\n",
      "\n",
      "\n",
      "    def run(self, inputs, outputs):\n",
      "        self.outcomes = evaluate_exemplars(inputs, outputs, self)\n",
      "        return self.outcomes\n",
      "\n",
      "instance = Cls(-1)\n",
      "outcomes = instance.run(inputs, outputs)\n",
      "\n",
      "Gen:0 t:0.060 fit_ave:0.00+-0.000 size_ave:1.00+-0.000 length_ave:100.00+-0.000 Ind: 0; 0\n",
      "Gen:1 t:0.000 fit_ave:0.00+-0.000 size_ave:1.00+-0.000 length_ave:100.00+-0.000 Ind: -1; 0\n",
      "Gen:2 t:0.000 fit_ave:0.00+-0.000 size_ave:1.00+-0.000 length_ave:100.00+-0.000 Ind: 0; 0\n",
      "Cache entries:2 Total Fitness Evaluations:48 Fitness Values:1\n",
      "Time: 0.068 Best solution:Ind: 0; 0\n"
     ]
    }
   ],
   "source": [
    "# Set to use the configuration file and output directory\n",
    "args = [\"-o\", out_path, \"-f\", \"tests/configurations/program_synthesis_symbolic_execution.yml\"]\n",
    "_ = main.main(args)"
   ]
  },
  {
   "cell_type": "code",
   "execution_count": 6,
   "metadata": {
    "collapsed": false,
    "pycharm": {
     "is_executing": false,
     "name": "#%%\n"
    }
   },
   "outputs": [
    {
     "data": {
      "image/png": "[encoded data removed]",
      "text/plain": [
       "<Figure size 640x480 with 1 Axes>"
      ]
     },
     "metadata": {},
     "output_type": "display_data"
    },
    {
     "ename": "",
     "evalue": "",
     "output_type": "error",
     "traceback": [
      "\u001b[1;31mThe Kernel crashed while executing code in the current cell or a previous cell. \n",
      "\u001b[1;31mPlease review the code in the cell(s) to identify a possible cause of the failure. \n",
      "\u001b[1;31mClick <a href='https://aka.ms/vscodeJupyterKernelCrash'>here</a> for more info. \n",
      "\u001b[1;31mView Jupyter <a href='command:jupyter.viewOutput'>log</a> for further details."
     ]
    }
   ],
   "source": [
    "from util.plot_donkey_ge import plot_fitness\n",
    "# Plot fitness from a search\n",
    "plot_fitness(out_path=out_path, in_path=out_path)"
   ]
  }
 ],
 "metadata": {
  "kernelspec": {
   "display_name": "Python 3",
   "language": "python",
   "name": "python3"
  },
  "language_info": {
   "codemirror_mode": {
    "name": "ipython",
    "version": 3
   },
   "file_extension": ".py",
   "mimetype": "text/x-python",
   "name": "python",
   "nbconvert_exporter": "python",
   "pygments_lexer": "ipython3",
   "version": "3.12.3"
  },
  "pycharm": {
   "stem_cell": {
    "cell_type": "raw",
    "metadata": {
     "collapsed": false
    },
    "source": []
   }
  }
 },
 "nbformat": 4,
 "nbformat_minor": 2
}
